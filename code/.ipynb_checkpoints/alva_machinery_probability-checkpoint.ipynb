{
 "cells": [
  {
   "cell_type": "markdown",
   "metadata": {},
   "source": [
    "# Probability-insighter\n",
    "https://github.com/alvason/probability-insighter\n",
    "\n",
    "### home-made machinery for insight into randomness"
   ]
  },
  {
   "cell_type": "code",
   "execution_count": null,
   "metadata": {
    "collapsed": true
   },
   "outputs": [],
   "source": [
    "'''\n",
    "author: Alvason Zhenhua Li\n",
    "date:   04/16/2015\n",
    "\n",
    "Home-made machinery for sorting a list from min-max\n",
    "'''\n",
    "import numpy as np\n",
    "\n",
    "\n",
    "%matplotlib inline\n",
    "\n",
    "import numpy as np\n",
    "import matplotlib.pyplot as plt\n",
    "###############\n",
    "# time-watching and progress-bar\n",
    "class TimeWatch(object):\n",
    "    def __init__(cell):\n",
    "        import time  \n",
    "        cell.start_time = time.time()\n",
    "    \n",
    "    def progressBar(cell, starting , current_step, stopping):\n",
    "        progressing = float(current_step - starting) / (stopping - starting) \n",
    "        from IPython.core.display import clear_output\n",
    "        clear_output(wait = True) \n",
    "        import time \n",
    "        current_time = time.time()\n",
    "        print('[{:6.6f} second {:} {:}% {:}]'.format(current_time - cell.start_time\n",
    "                                              , int(10 * progressing) * '--'\n",
    "                                              , int(100 * progressing)\n",
    "                                              , int(10 - 10 * progressing) * '++'))\n",
    "    def runTime(cell):\n",
    "        import time \n",
    "        current_time = time.time()\n",
    "        total_time = current_time - cell.start_time\n",
    "        print('[running time = {:6.6f} second]'.format(total_time))\n",
    "        return total_time\n",
    "###############\n",
    "import datetime\n",
    "previous_running_time = datetime.datetime.now()\n",
    "print ('Previous running time is {:}').format(previous_running_time)"
   ]
  },
  {
   "cell_type": "code",
   "execution_count": null,
   "metadata": {
    "collapsed": true
   },
   "outputs": [],
   "source": [
    "### \n",
    "def productA(xx):\n",
    "    # if xx is a scalar not array\n",
    "    if isinstance(xx, (int, float)):\n",
    "        xx = [xx]\n",
    "    # for converting numpy-scalar (0-dimensional array()) to 0-dimensional array([]) \n",
    "    xx = np.atleast_1d(xx)\n",
    "    xx = np.asarray(xx, dtype = int)\n",
    "    total_point = len(xx)\n",
    "    # set 0! = 1\n",
    "    productX = np.zeros(total_point) + 1\n",
    "    for j in range(total_point):\n",
    "        for k in range(1, xx[j] + 1):        \n",
    "            productX[j] = productX[j]*k\n",
    "    return productX"
   ]
  },
  {
   "cell_type": "code",
   "execution_count": 1,
   "metadata": {
    "collapsed": false
   },
   "outputs": [],
   "source": [
    "# min-max sorting\n",
    "def AlvaMinMax(data):\n",
    "    totalDataPoint = np.size(data)\n",
    "    minMaxListing = np.zeros(totalDataPoint)   \n",
    "    for i in range(totalDataPoint):\n",
    "        # searching the minimum in current array\n",
    "        jj = 0 \n",
    "        minMaxListing[i] = data[jj] # suppose the 1st element [0] of current data-list is the minimum\n",
    "        for j in range(totalDataPoint - i):\n",
    "            if data[j] < minMaxListing[i]: \n",
    "                minMaxListing[i] = data[j]\n",
    "                jj = j # recording the position of selected element\n",
    "        # reducing the size of searching zone (removing the minmum from current array)\n",
    "        data = np.delete(data, jj)\n",
    "    return (minMaxListing)\n",
    "\n",
    "'''\n",
    "author: Alvason Zhenhua Li\n",
    "date:   04/16/2015\n",
    "\n",
    "Home-made machinery for leveling a list by using min-max way\n",
    "'''\n",
    "# leveling by using min-max way\n",
    "def AlvaLevel(data, totalLevel, normalization = True):\n",
    "    totalDataPoint = np.size(data)\n",
    "    minMaxListing = AlvaMinMax(data)\n",
    "    # searching minimum and maximum values\n",
    "    minValue = minMaxListing[0]\n",
    "    maxValue = minMaxListing[-1]\n",
    "    spacingValue = np.linspace(minValue, maxValue, num = totalLevel + 1, retstep = True)        \n",
    "    gLevel = np.delete(spacingValue[0], 0)\n",
    "    # catogerizing the level set\n",
    "    # initialize the levelspace by a 'null' space\n",
    "    levelSpace = np.zeros([2])\n",
    "    numberLevel = np.zeros([totalLevel])\n",
    "    jj = 0 # counting the checked number\n",
    "    for i in range(totalLevel): \n",
    "        n = 0 # counting the number in each level\n",
    "        for j in range(jj, totalDataPoint):\n",
    "            if minMaxListing[j] <= gLevel[i]: \n",
    "                levelSpace = np.vstack((levelSpace, [i, minMaxListing[j]]))\n",
    "                n = n + 1\n",
    "        numberLevel[i] = n\n",
    "        jj = jj + n\n",
    "    # delete the inital 'null' space\n",
    "    levelSpace = np.delete(levelSpace, 0, 0) \n",
    "    if normalization == True:\n",
    "        numberLevel = numberLevel/AlvaMinMax(numberLevel)[-1]\n",
    "    return (gLevel, numberLevel, levelSpace)"
   ]
  }
 ],
 "metadata": {
  "kernelspec": {
   "display_name": "Python 2",
   "language": "python",
   "name": "python2"
  },
  "language_info": {
   "codemirror_mode": {
    "name": "ipython",
    "version": 2
   },
   "file_extension": ".py",
   "mimetype": "text/x-python",
   "name": "python",
   "nbconvert_exporter": "python",
   "pygments_lexer": "ipython2",
   "version": "2.7.9"
  }
 },
 "nbformat": 4,
 "nbformat_minor": 0
}

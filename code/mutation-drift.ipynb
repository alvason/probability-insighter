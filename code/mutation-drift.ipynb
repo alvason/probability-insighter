{
 "metadata": {
  "kernelspec": {
   "display_name": "Python 2",
   "language": "python",
   "name": "python2"
  },
  "language_info": {
   "codemirror_mode": {
    "name": "ipython",
    "version": 2
   },
   "file_extension": ".py",
   "mimetype": "text/x-python",
   "name": "python",
   "nbconvert_exporter": "python",
   "pygments_lexer": "ipython2",
   "version": "2.7.9"
  },
  "name": "",
  "signature": "sha256:ad63dd5c4fa7dd9a89ed9e1c955b376fde99ff4612ec93fbf6f77aae02309b5c"
 },
 "nbformat": 3,
 "nbformat_minor": 0,
 "worksheets": [
  {
   "cells": [
    {
     "cell_type": "heading",
     "level": 1,
     "metadata": {
      "collapsed": false
     },
     "source": [
      "Wright-Fisher model of mutation and random genetic drift"
     ]
    },
    {
     "cell_type": "markdown",
     "metadata": {},
     "source": [
      "A Wright-Fisher model has a fixed population size *N* and discrete non-overlapping generations. Each generation, each individual has a random number of offspring whose mean is proportional to the individual's fitness. Each generation, mutation may occur."
     ]
    },
    {
     "cell_type": "heading",
     "level": 2,
     "metadata": {},
     "source": [
      "Setup"
     ]
    },
    {
     "cell_type": "code",
     "collapsed": false,
     "input": [
      "import numpy as np\n",
      "import itertools"
     ],
     "language": "python",
     "metadata": {},
     "outputs": [],
     "prompt_number": 1
    },
    {
     "cell_type": "heading",
     "level": 2,
     "metadata": {},
     "source": [
      "Make population dynamic model"
     ]
    },
    {
     "cell_type": "heading",
     "level": 3,
     "metadata": {},
     "source": [
      "Basic parameters"
     ]
    },
    {
     "cell_type": "code",
     "collapsed": false,
     "input": [
      "pop_size = 60"
     ],
     "language": "python",
     "metadata": {},
     "outputs": [],
     "prompt_number": 2
    },
    {
     "cell_type": "code",
     "collapsed": true,
     "input": [
      "seq_length = 100"
     ],
     "language": "python",
     "metadata": {},
     "outputs": [],
     "prompt_number": 3
    },
    {
     "cell_type": "code",
     "collapsed": true,
     "input": [
      "alphabet = ['A', 'T', 'G', 'C']"
     ],
     "language": "python",
     "metadata": {},
     "outputs": [],
     "prompt_number": 4
    },
    {
     "cell_type": "code",
     "collapsed": true,
     "input": [
      "base_haplotype = \"AAAAAAAAAA\""
     ],
     "language": "python",
     "metadata": {},
     "outputs": [],
     "prompt_number": 5
    },
    {
     "cell_type": "heading",
     "level": 3,
     "metadata": {
      "collapsed": false
     },
     "source": [
      "Setup a population of sequences"
     ]
    },
    {
     "cell_type": "markdown",
     "metadata": {},
     "source": [
      "Store this as a lightweight Dictionary that maps a string to a count. All the sequences together will have count *N*."
     ]
    },
    {
     "cell_type": "code",
     "collapsed": true,
     "input": [
      "pop = {}"
     ],
     "language": "python",
     "metadata": {},
     "outputs": [],
     "prompt_number": 6
    },
    {
     "cell_type": "code",
     "collapsed": true,
     "input": [
      "pop[\"AAAAAAAAAA\"] = 40"
     ],
     "language": "python",
     "metadata": {},
     "outputs": [],
     "prompt_number": 7
    },
    {
     "cell_type": "code",
     "collapsed": false,
     "input": [
      "pop[\"AAATAAAAAA\"] = 30"
     ],
     "language": "python",
     "metadata": {},
     "outputs": [],
     "prompt_number": 8
    },
    {
     "cell_type": "code",
     "collapsed": false,
     "input": [
      "pop[\"AATTTAAAAA\"] = 30"
     ],
     "language": "python",
     "metadata": {},
     "outputs": [],
     "prompt_number": 9
    },
    {
     "cell_type": "code",
     "collapsed": false,
     "input": [
      "pop[\"AAATAAAAAA\"]"
     ],
     "language": "python",
     "metadata": {},
     "outputs": [
      {
       "metadata": {},
       "output_type": "pyout",
       "prompt_number": 10,
       "text": [
        "30"
       ]
      }
     ],
     "prompt_number": 10
    },
    {
     "cell_type": "heading",
     "level": 3,
     "metadata": {},
     "source": [
      "Add mutation"
     ]
    },
    {
     "cell_type": "markdown",
     "metadata": {},
     "source": [
      "Mutations occur each generation in each individual in every basepair."
     ]
    },
    {
     "cell_type": "code",
     "collapsed": true,
     "input": [
      "mutation_rate = 0.0001 # per gen per individual per site"
     ],
     "language": "python",
     "metadata": {},
     "outputs": [],
     "prompt_number": 11
    },
    {
     "cell_type": "markdown",
     "metadata": {},
     "source": [
      "Walk through population and mutate basepairs. Use Poisson splitting to speed this up (you may be familiar with Poisson splitting from its use in the [Gillespie algorithm](https://en.wikipedia.org/wiki/Gillespie_algorithm)). \n",
      "\n",
      " * In naive scenario A: take each element and check for each if event occurs. For example, 100 elements, each with 1% chance. This requires 100 random numbers.\n",
      " * In Poisson splitting scenario B: Draw a Poisson random number for the number of events that occur and distribute them randomly. In the above example, this will most likely involve 1 random number draw to see how many events and then a few more draws to see which elements are hit."
     ]
    },
    {
     "cell_type": "markdown",
     "metadata": {},
     "source": [
      "First off, we need to get random number of total mutations"
     ]
    },
    {
     "cell_type": "code",
     "collapsed": false,
     "input": [
      "def get_mutation_count():\n",
      "    mean = mutation_rate * pop_size * seq_length\n",
      "    return np.random.poisson(mean)"
     ],
     "language": "python",
     "metadata": {},
     "outputs": [],
     "prompt_number": 12
    },
    {
     "cell_type": "markdown",
     "metadata": {},
     "source": [
      "Here we use Numpy's [Poisson random number](http://docs.scipy.org/doc/numpy/reference/generated/numpy.random.poisson.html)."
     ]
    },
    {
     "cell_type": "code",
     "collapsed": false,
     "input": [
      "get_mutation_count()"
     ],
     "language": "python",
     "metadata": {},
     "outputs": [
      {
       "metadata": {},
       "output_type": "pyout",
       "prompt_number": 13,
       "text": [
        "0"
       ]
      }
     ],
     "prompt_number": 13
    },
    {
     "cell_type": "markdown",
     "metadata": {},
     "source": [
      "We need to get random haplotype from the population."
     ]
    },
    {
     "cell_type": "code",
     "collapsed": false,
     "input": [
      "pop.keys()"
     ],
     "language": "python",
     "metadata": {},
     "outputs": [
      {
       "metadata": {},
       "output_type": "pyout",
       "prompt_number": 14,
       "text": [
        "['AAAAAAAAAA', 'AAATAAAAAA', 'AATTTAAAAA']"
       ]
      }
     ],
     "prompt_number": 14
    },
    {
     "cell_type": "code",
     "collapsed": false,
     "input": [
      "[x/float(pop_size) for x in pop.values()]"
     ],
     "language": "python",
     "metadata": {},
     "outputs": [
      {
       "metadata": {},
       "output_type": "pyout",
       "prompt_number": 15,
       "text": [
        "[0.6666666666666666, 0.5, 0.5]"
       ]
      }
     ],
     "prompt_number": 15
    },
    {
     "cell_type": "code",
     "collapsed": false,
     "input": [
      "def get_random_haplotype():\n",
      "    haplotypes = pop.keys() \n",
      "    frequencies = [x/float(pop_size) for x in pop.values()]\n",
      "    total = sum(frequencies)\n",
      "    frequencies = [x / total for x in frequencies]\n",
      "    return np.random.choice(haplotypes, p=frequencies)"
     ],
     "language": "python",
     "metadata": {},
     "outputs": [],
     "prompt_number": 16
    },
    {
     "cell_type": "markdown",
     "metadata": {},
     "source": [
      "Here we use Numpy's [weighted random choice](http://docs.scipy.org/doc/numpy/reference/generated/numpy.random.choice.html)."
     ]
    },
    {
     "cell_type": "code",
     "collapsed": false,
     "input": [
      "get_random_haplotype()"
     ],
     "language": "python",
     "metadata": {},
     "outputs": [
      {
       "metadata": {},
       "output_type": "pyout",
       "prompt_number": 17,
       "text": [
        "'AAATAAAAAA'"
       ]
      }
     ],
     "prompt_number": 17
    },
    {
     "cell_type": "markdown",
     "metadata": {},
     "source": [
      "Here, we take a supplied haplotype and mutate a site at random."
     ]
    },
    {
     "cell_type": "code",
     "collapsed": true,
     "input": [
      "def get_mutant(haplotype):\n",
      "    site = np.random.randint(seq_length)\n",
      "    possible_mutations = list(alphabet)\n",
      "    possible_mutations.remove(haplotype[site])\n",
      "    mutation = np.random.choice(possible_mutations)\n",
      "    new_haplotype = haplotype[:site] + mutation + haplotype[site+1:]\n",
      "    return new_haplotype"
     ],
     "language": "python",
     "metadata": {},
     "outputs": [],
     "prompt_number": 18
    },
    {
     "cell_type": "code",
     "collapsed": false,
     "input": [
      "get_mutant(\"AAAAAAAAAA\")"
     ],
     "language": "python",
     "metadata": {},
     "outputs": [
      {
       "ename": "IndexError",
       "evalue": "string index out of range",
       "output_type": "pyerr",
       "traceback": [
        "\u001b[0;31m---------------------------------------------------------------------------\u001b[0m\n\u001b[0;31mIndexError\u001b[0m                                Traceback (most recent call last)",
        "\u001b[0;32m<ipython-input-19-b5d699206b70>\u001b[0m in \u001b[0;36m<module>\u001b[0;34m()\u001b[0m\n\u001b[0;32m----> 1\u001b[0;31m \u001b[0mget_mutant\u001b[0m\u001b[0;34m(\u001b[0m\u001b[0;34m\"AAAAAAAAAA\"\u001b[0m\u001b[0;34m)\u001b[0m\u001b[0;34m\u001b[0m\u001b[0m\n\u001b[0m",
        "\u001b[0;32m<ipython-input-18-0e1a10bc7940>\u001b[0m in \u001b[0;36mget_mutant\u001b[0;34m(haplotype)\u001b[0m\n\u001b[1;32m      2\u001b[0m     \u001b[0msite\u001b[0m \u001b[0;34m=\u001b[0m \u001b[0mnp\u001b[0m\u001b[0;34m.\u001b[0m\u001b[0mrandom\u001b[0m\u001b[0;34m.\u001b[0m\u001b[0mrandint\u001b[0m\u001b[0;34m(\u001b[0m\u001b[0mseq_length\u001b[0m\u001b[0;34m)\u001b[0m\u001b[0;34m\u001b[0m\u001b[0m\n\u001b[1;32m      3\u001b[0m     \u001b[0mpossible_mutations\u001b[0m \u001b[0;34m=\u001b[0m \u001b[0mlist\u001b[0m\u001b[0;34m(\u001b[0m\u001b[0malphabet\u001b[0m\u001b[0;34m)\u001b[0m\u001b[0;34m\u001b[0m\u001b[0m\n\u001b[0;32m----> 4\u001b[0;31m     \u001b[0mpossible_mutations\u001b[0m\u001b[0;34m.\u001b[0m\u001b[0mremove\u001b[0m\u001b[0;34m(\u001b[0m\u001b[0mhaplotype\u001b[0m\u001b[0;34m[\u001b[0m\u001b[0msite\u001b[0m\u001b[0;34m]\u001b[0m\u001b[0;34m)\u001b[0m\u001b[0;34m\u001b[0m\u001b[0m\n\u001b[0m\u001b[1;32m      5\u001b[0m     \u001b[0mmutation\u001b[0m \u001b[0;34m=\u001b[0m \u001b[0mnp\u001b[0m\u001b[0;34m.\u001b[0m\u001b[0mrandom\u001b[0m\u001b[0;34m.\u001b[0m\u001b[0mchoice\u001b[0m\u001b[0;34m(\u001b[0m\u001b[0mpossible_mutations\u001b[0m\u001b[0;34m)\u001b[0m\u001b[0;34m\u001b[0m\u001b[0m\n\u001b[1;32m      6\u001b[0m     \u001b[0mnew_haplotype\u001b[0m \u001b[0;34m=\u001b[0m \u001b[0mhaplotype\u001b[0m\u001b[0;34m[\u001b[0m\u001b[0;34m:\u001b[0m\u001b[0msite\u001b[0m\u001b[0;34m]\u001b[0m \u001b[0;34m+\u001b[0m \u001b[0mmutation\u001b[0m \u001b[0;34m+\u001b[0m \u001b[0mhaplotype\u001b[0m\u001b[0;34m[\u001b[0m\u001b[0msite\u001b[0m\u001b[0;34m+\u001b[0m\u001b[0;36m1\u001b[0m\u001b[0;34m:\u001b[0m\u001b[0;34m]\u001b[0m\u001b[0;34m\u001b[0m\u001b[0m\n",
        "\u001b[0;31mIndexError\u001b[0m: string index out of range"
       ]
      }
     ],
     "prompt_number": 19
    },
    {
     "cell_type": "markdown",
     "metadata": {},
     "source": [
      "Putting things together, in a single mutation event, we grab a random haplotype from the population, mutate it, decrement its count, and then check if the mutant already exists in the population. If it does, increment this mutant haplotype; if it doesn't create a new haplotype of count 1. "
     ]
    },
    {
     "cell_type": "code",
     "collapsed": true,
     "input": [
      "def mutation_event():\n",
      "    haplotype = get_random_haplotype()\n",
      "    if pop[haplotype] > 1:\n",
      "        pop[haplotype] -= 1\n",
      "        new_haplotype = get_mutant(haplotype)\n",
      "        if new_haplotype in pop:\n",
      "            pop[new_haplotype] += 1\n",
      "        else:\n",
      "            pop[new_haplotype] = 1"
     ],
     "language": "python",
     "metadata": {},
     "outputs": []
    },
    {
     "cell_type": "code",
     "collapsed": false,
     "input": [
      "mutation_event()"
     ],
     "language": "python",
     "metadata": {},
     "outputs": []
    },
    {
     "cell_type": "code",
     "collapsed": false,
     "input": [
      "pop"
     ],
     "language": "python",
     "metadata": {},
     "outputs": []
    },
    {
     "cell_type": "markdown",
     "metadata": {},
     "source": [
      "To create all the mutations that occur in a single generation, we draw the total count of mutations and then iteratively add mutation events."
     ]
    },
    {
     "cell_type": "code",
     "collapsed": true,
     "input": [
      "def mutation_step():\n",
      "    mutation_count = get_mutation_count()\n",
      "    for i in range(mutation_count):\n",
      "        mutation_event()"
     ],
     "language": "python",
     "metadata": {},
     "outputs": []
    },
    {
     "cell_type": "code",
     "collapsed": false,
     "input": [
      "mutation_step()"
     ],
     "language": "python",
     "metadata": {},
     "outputs": []
    },
    {
     "cell_type": "code",
     "collapsed": false,
     "input": [
      "pop"
     ],
     "language": "python",
     "metadata": {},
     "outputs": []
    },
    {
     "cell_type": "heading",
     "level": 3,
     "metadata": {},
     "source": [
      "Add genetic drift"
     ]
    },
    {
     "cell_type": "markdown",
     "metadata": {},
     "source": [
      "Given a list of haplotype frequencies currently in the population, we can take a [multinomial draw](https://en.wikipedia.org/wiki/Multinomial_distribution) to get haplotype counts in the following generation."
     ]
    },
    {
     "cell_type": "code",
     "collapsed": true,
     "input": [
      "def get_offspring_counts():\n",
      "    haplotypes = pop.keys() \n",
      "    frequencies = [x/float(pop_size) for x in pop.values()]\n",
      "    return list(np.random.multinomial(pop_size, frequencies))"
     ],
     "language": "python",
     "metadata": {},
     "outputs": []
    },
    {
     "cell_type": "markdown",
     "metadata": {},
     "source": [
      "Here we use Numpy's [multinomial random sample](http://docs.scipy.org/doc/numpy/reference/generated/numpy.random.multinomial.html)."
     ]
    },
    {
     "cell_type": "code",
     "collapsed": false,
     "input": [
      "get_offspring_counts()"
     ],
     "language": "python",
     "metadata": {},
     "outputs": []
    },
    {
     "cell_type": "markdown",
     "metadata": {},
     "source": [
      "We then need to assign this new list of haplotype counts to the `pop` dictionary. To save memory and computation, if a haplotype goes to 0, we remove it entirely from the `pop` dictionary."
     ]
    },
    {
     "cell_type": "code",
     "collapsed": true,
     "input": [
      "def offspring_step():\n",
      "    counts = get_offspring_counts()\n",
      "    for (haplotype, count) in zip(pop.keys(), counts):\n",
      "        if (count > 0):\n",
      "            pop[haplotype] = count\n",
      "        else:\n",
      "            del pop[haplotype]"
     ],
     "language": "python",
     "metadata": {},
     "outputs": []
    },
    {
     "cell_type": "code",
     "collapsed": false,
     "input": [
      "offspring_step()"
     ],
     "language": "python",
     "metadata": {},
     "outputs": []
    },
    {
     "cell_type": "code",
     "collapsed": false,
     "input": [
      "pop"
     ],
     "language": "python",
     "metadata": {},
     "outputs": []
    },
    {
     "cell_type": "heading",
     "level": 3,
     "metadata": {},
     "source": [
      "Combine and iterate"
     ]
    },
    {
     "cell_type": "markdown",
     "metadata": {},
     "source": [
      "Each generation is simply a mutation step where a random number of mutations are thrown down, and an offspring step where haplotype counts are updated."
     ]
    },
    {
     "cell_type": "code",
     "collapsed": true,
     "input": [
      "def time_step():\n",
      "    mutation_step()\n",
      "    offspring_step()"
     ],
     "language": "python",
     "metadata": {},
     "outputs": []
    },
    {
     "cell_type": "markdown",
     "metadata": {},
     "source": [
      "Can iterate this over a number of generations."
     ]
    },
    {
     "cell_type": "code",
     "collapsed": true,
     "input": [
      "generations = 500"
     ],
     "language": "python",
     "metadata": {},
     "outputs": []
    },
    {
     "cell_type": "code",
     "collapsed": true,
     "input": [
      "def simulate():\n",
      "    for i in range(generations):\n",
      "        time_step()"
     ],
     "language": "python",
     "metadata": {},
     "outputs": []
    },
    {
     "cell_type": "code",
     "collapsed": true,
     "input": [
      "simulate()"
     ],
     "language": "python",
     "metadata": {},
     "outputs": []
    },
    {
     "cell_type": "code",
     "collapsed": false,
     "input": [
      "pop"
     ],
     "language": "python",
     "metadata": {},
     "outputs": []
    },
    {
     "cell_type": "heading",
     "level": 3,
     "metadata": {},
     "source": [
      "Record"
     ]
    },
    {
     "cell_type": "markdown",
     "metadata": {},
     "source": [
      "We want to keep a record of past population frequencies to understand dynamics through time. At each step in the simulation, we append to a history object."
     ]
    },
    {
     "cell_type": "code",
     "collapsed": true,
     "input": [
      "pop = {\"AAAAAAAAAA\": pop_size}"
     ],
     "language": "python",
     "metadata": {},
     "outputs": []
    },
    {
     "cell_type": "code",
     "collapsed": true,
     "input": [
      "history = []"
     ],
     "language": "python",
     "metadata": {},
     "outputs": []
    },
    {
     "cell_type": "code",
     "collapsed": true,
     "input": [
      "def simulate():\n",
      "    clone_pop = dict(pop)\n",
      "    history.append(clone_pop)\n",
      "    for i in range(generations):\n",
      "        time_step()\n",
      "        clone_pop = dict(pop)\n",
      "        history.append(clone_pop)"
     ],
     "language": "python",
     "metadata": {},
     "outputs": []
    },
    {
     "cell_type": "code",
     "collapsed": false,
     "input": [
      "simulate()"
     ],
     "language": "python",
     "metadata": {},
     "outputs": []
    },
    {
     "cell_type": "code",
     "collapsed": false,
     "input": [
      "pop"
     ],
     "language": "python",
     "metadata": {},
     "outputs": []
    },
    {
     "cell_type": "code",
     "collapsed": false,
     "input": [
      "history[0]"
     ],
     "language": "python",
     "metadata": {},
     "outputs": []
    },
    {
     "cell_type": "code",
     "collapsed": false,
     "input": [
      "history[1]"
     ],
     "language": "python",
     "metadata": {},
     "outputs": []
    },
    {
     "cell_type": "code",
     "collapsed": false,
     "input": [
      "history[2]"
     ],
     "language": "python",
     "metadata": {},
     "outputs": []
    },
    {
     "cell_type": "heading",
     "level": 2,
     "metadata": {},
     "source": [
      "Analyze trajectories"
     ]
    },
    {
     "cell_type": "heading",
     "level": 3,
     "metadata": {},
     "source": [
      "Calculate diversity"
     ]
    },
    {
     "cell_type": "markdown",
     "metadata": {},
     "source": [
      "Here, diversity in population genetics is usually shorthand for the statistic *&pi;*, which measures pairwise differences between random individuals in the population. *&pi;* is usually measured as substitutions per site."
     ]
    },
    {
     "cell_type": "code",
     "collapsed": false,
     "input": [
      "pop"
     ],
     "language": "python",
     "metadata": {
      "scrolled": false
     },
     "outputs": []
    },
    {
     "cell_type": "markdown",
     "metadata": {},
     "source": [
      "First, we need to calculate the number of differences per site between two arbitrary sequences."
     ]
    },
    {
     "cell_type": "code",
     "collapsed": true,
     "input": [
      "def get_distance(seq_a, seq_b):\n",
      "    diffs = 0\n",
      "    length = len(seq_a)\n",
      "    assert len(seq_a) == len(seq_b)\n",
      "    for chr_a, chr_b in zip(seq_a, seq_b):\n",
      "        if chr_a != chr_b:\n",
      "            diffs += 1\n",
      "    return diffs / float(length)"
     ],
     "language": "python",
     "metadata": {},
     "outputs": []
    },
    {
     "cell_type": "code",
     "collapsed": false,
     "input": [
      "get_distance(\"AAAAAAAAAA\", \"AAAAAAAAAB\")"
     ],
     "language": "python",
     "metadata": {},
     "outputs": []
    },
    {
     "cell_type": "markdown",
     "metadata": {},
     "source": [
      "We calculate diversity as a weighted average between all pairs of haplotypes, weighted by pairwise haplotype frequency."
     ]
    },
    {
     "cell_type": "code",
     "collapsed": false,
     "input": [
      "def get_diversity(population):\n",
      "    haplotypes = population.keys()\n",
      "    haplotype_count = len(haplotypes)\n",
      "    diversity = 0\n",
      "    for i in range(haplotype_count):\n",
      "        for j in range(haplotype_count):\n",
      "            haplotype_a = haplotypes[i]\n",
      "            haplotype_b = haplotypes[j]\n",
      "            frequency_a = population[haplotype_a] / float(pop_size)\n",
      "            frequency_b = population[haplotype_b] / float(pop_size)\n",
      "            frequency_pair = frequency_a * frequency_b\n",
      "            diversity += frequency_pair * get_distance(haplotype_a, haplotype_b)\n",
      "    return diversity"
     ],
     "language": "python",
     "metadata": {},
     "outputs": []
    },
    {
     "cell_type": "code",
     "collapsed": false,
     "input": [
      "get_diversity(pop)"
     ],
     "language": "python",
     "metadata": {},
     "outputs": []
    },
    {
     "cell_type": "code",
     "collapsed": false,
     "input": [
      "def get_diversity_trajectory():\n",
      "    trajectory = [get_diversity(generation) for generation in history]\n",
      "    return trajectory"
     ],
     "language": "python",
     "metadata": {},
     "outputs": []
    },
    {
     "cell_type": "code",
     "collapsed": false,
     "input": [
      "get_diversity_trajectory()"
     ],
     "language": "python",
     "metadata": {},
     "outputs": []
    },
    {
     "cell_type": "heading",
     "level": 3,
     "metadata": {},
     "source": [
      "Plot diversity"
     ]
    },
    {
     "cell_type": "markdown",
     "metadata": {},
     "source": [
      "Here, we use [matplotlib](http://matplotlib.org/) for all Python plotting."
     ]
    },
    {
     "cell_type": "code",
     "collapsed": true,
     "input": [
      "%matplotlib inline\n",
      "import matplotlib.pyplot as plt\n",
      "import matplotlib as mpl"
     ],
     "language": "python",
     "metadata": {},
     "outputs": [],
     "prompt_number": 2
    },
    {
     "cell_type": "markdown",
     "metadata": {},
     "source": [
      "Here, we make a simple line plot using matplotlib's `plot` function."
     ]
    },
    {
     "cell_type": "code",
     "collapsed": false,
     "input": [
      "plt.plot(get_diversity_trajectory())"
     ],
     "language": "python",
     "metadata": {},
     "outputs": []
    },
    {
     "cell_type": "markdown",
     "metadata": {},
     "source": [
      "Here, we style the plot a bit with x and y axes labels."
     ]
    },
    {
     "cell_type": "code",
     "collapsed": true,
     "input": [
      "def diversity_plot():\n",
      "    mpl.rcParams['font.size']=14\n",
      "    trajectory = get_diversity_trajectory()\n",
      "    plt.plot(trajectory, \"#447CCD\")    \n",
      "    plt.ylabel(\"diversity\")\n",
      "    plt.xlabel(\"generation\")"
     ],
     "language": "python",
     "metadata": {},
     "outputs": []
    },
    {
     "cell_type": "code",
     "collapsed": false,
     "input": [
      "diversity_plot()"
     ],
     "language": "python",
     "metadata": {},
     "outputs": []
    },
    {
     "cell_type": "heading",
     "level": 3,
     "metadata": {},
     "source": [
      "Analyze and plot divergence"
     ]
    },
    {
     "cell_type": "markdown",
     "metadata": {},
     "source": [
      "In population genetics, divergence is generally the number of substitutions away from a reference sequence. In this case, we can measure the average distance of the population to the starting haplotype. Again, this will be measured in terms of substitutions per site."
     ]
    },
    {
     "cell_type": "code",
     "collapsed": true,
     "input": [
      "def get_divergence(population):\n",
      "    haplotypes = population.keys()\n",
      "    divergence = 0\n",
      "    for haplotype in haplotypes:\n",
      "        frequency = population[haplotype] / float(pop_size)\n",
      "        divergence += frequency * get_distance(base_haplotype, haplotype)\n",
      "    return divergence"
     ],
     "language": "python",
     "metadata": {},
     "outputs": []
    },
    {
     "cell_type": "code",
     "collapsed": true,
     "input": [
      "def get_divergence_trajectory():\n",
      "    trajectory = [get_divergence(generation) for generation in history]\n",
      "    return trajectory"
     ],
     "language": "python",
     "metadata": {},
     "outputs": []
    },
    {
     "cell_type": "code",
     "collapsed": false,
     "input": [
      "get_divergence_trajectory()"
     ],
     "language": "python",
     "metadata": {},
     "outputs": []
    },
    {
     "cell_type": "code",
     "collapsed": true,
     "input": [
      "def divergence_plot():\n",
      "    mpl.rcParams['font.size']=14\n",
      "    trajectory = get_divergence_trajectory()\n",
      "    plt.plot(trajectory, \"#447CCD\")\n",
      "    plt.ylabel(\"divergence\")\n",
      "    plt.xlabel(\"generation\") "
     ],
     "language": "python",
     "metadata": {},
     "outputs": []
    },
    {
     "cell_type": "code",
     "collapsed": false,
     "input": [
      "divergence_plot()"
     ],
     "language": "python",
     "metadata": {},
     "outputs": []
    },
    {
     "cell_type": "heading",
     "level": 3,
     "metadata": {
      "collapsed": true
     },
     "source": [
      "Plot haplotype trajectories"
     ]
    },
    {
     "cell_type": "markdown",
     "metadata": {},
     "source": [
      "We also want to directly look at haplotype frequencies through time."
     ]
    },
    {
     "cell_type": "code",
     "collapsed": true,
     "input": [
      "def get_frequency(haplotype, generation):\n",
      "    pop_at_generation = history[generation]\n",
      "    if haplotype in pop_at_generation:\n",
      "        return pop_at_generation[haplotype]/float(pop_size)\n",
      "    else:\n",
      "        return 0"
     ],
     "language": "python",
     "metadata": {},
     "outputs": []
    },
    {
     "cell_type": "code",
     "collapsed": false,
     "input": [
      "get_frequency(\"AAAAAAAAAA\", 4)"
     ],
     "language": "python",
     "metadata": {},
     "outputs": []
    },
    {
     "cell_type": "code",
     "collapsed": true,
     "input": [
      "def get_trajectory(haplotype):\n",
      "    trajectory = [get_frequency(haplotype, gen) for gen in range(generations)]\n",
      "    return trajectory"
     ],
     "language": "python",
     "metadata": {},
     "outputs": []
    },
    {
     "cell_type": "code",
     "collapsed": false,
     "input": [
      "get_trajectory(\"AAAAAAAAAA\")"
     ],
     "language": "python",
     "metadata": {},
     "outputs": []
    },
    {
     "cell_type": "markdown",
     "metadata": {},
     "source": [
      "We want to plot all haplotypes seen during the simulation."
     ]
    },
    {
     "cell_type": "code",
     "collapsed": false,
     "input": [
      "def get_all_haplotypes():\n",
      "    haplotypes = set()   \n",
      "    for generation in history:\n",
      "        for haplotype in generation:\n",
      "            haplotypes.add(haplotype)\n",
      "    return haplotypes"
     ],
     "language": "python",
     "metadata": {},
     "outputs": []
    },
    {
     "cell_type": "code",
     "collapsed": false,
     "input": [
      "get_all_haplotypes()"
     ],
     "language": "python",
     "metadata": {},
     "outputs": []
    },
    {
     "cell_type": "markdown",
     "metadata": {},
     "source": [
      "Here is a simple plot of their overall frequencies."
     ]
    },
    {
     "cell_type": "code",
     "collapsed": false,
     "input": [
      "haplotypes = get_all_haplotypes()\n",
      "for haplotype in haplotypes:\n",
      "    plt.plot(get_trajectory(haplotype))\n",
      "plt.show()"
     ],
     "language": "python",
     "metadata": {},
     "outputs": []
    },
    {
     "cell_type": "code",
     "collapsed": true,
     "input": [
      "colors = [\"#781C86\", \"#571EA2\", \"#462EB9\", \"#3F47C9\", \"#3F63CF\", \"#447CCD\", \"#4C90C0\", \"#56A0AE\", \"#63AC9A\", \"#72B485\", \"#83BA70\", \"#96BD60\", \"#AABD52\", \"#BDBB48\", \"#CEB541\", \"#DCAB3C\", \"#E49938\", \"#E68133\", \"#E4632E\", \"#DF4327\", \"#DB2122\"]"
     ],
     "language": "python",
     "metadata": {},
     "outputs": []
    },
    {
     "cell_type": "code",
     "collapsed": true,
     "input": [
      "colors_lighter = [\"#A567AF\", \"#8F69C1\", \"#8474D1\", \"#7F85DB\", \"#7F97DF\", \"#82A8DD\", \"#88B5D5\", \"#8FC0C9\", \"#97C8BC\", \"#A1CDAD\", \"#ACD1A0\", \"#B9D395\", \"#C6D38C\", \"#D3D285\", \"#DECE81\", \"#E8C77D\", \"#EDBB7A\", \"#EEAB77\", \"#ED9773\", \"#EA816F\", \"#E76B6B\"]"
     ],
     "language": "python",
     "metadata": {},
     "outputs": []
    },
    {
     "cell_type": "markdown",
     "metadata": {},
     "source": [
      "We can use `stackplot` to stack these trajectoies on top of each other to get a better picture of what's going on."
     ]
    },
    {
     "cell_type": "code",
     "collapsed": true,
     "input": [
      "def stacked_trajectory_plot(xlabel=\"generation\"):\n",
      "    mpl.rcParams['font.size']=18\n",
      "    haplotypes = get_all_haplotypes()\n",
      "    trajectories = [get_trajectory(haplotype) for haplotype in haplotypes]\n",
      "    plt.stackplot(range(generations), trajectories, colors=colors_lighter)\n",
      "    plt.ylim(0, 1)\n",
      "    plt.ylabel(\"frequency\")\n",
      "    plt.xlabel(xlabel)"
     ],
     "language": "python",
     "metadata": {},
     "outputs": []
    },
    {
     "cell_type": "code",
     "collapsed": false,
     "input": [
      "stacked_trajectory_plot()"
     ],
     "language": "python",
     "metadata": {},
     "outputs": []
    },
    {
     "cell_type": "heading",
     "level": 3,
     "metadata": {},
     "source": [
      "Plot SNP trajectories"
     ]
    },
    {
     "cell_type": "code",
     "collapsed": true,
     "input": [
      "def get_snp_frequency(site, generation):\n",
      "    minor_allele_frequency = 0.0\n",
      "    pop_at_generation = history[generation]\n",
      "    for haplotype in pop_at_generation.keys():\n",
      "        allele = haplotype[site]\n",
      "        frequency = pop_at_generation[haplotype] / float(pop_size)\n",
      "        if allele != \"A\":\n",
      "            minor_allele_frequency += frequency\n",
      "    return minor_allele_frequency"
     ],
     "language": "python",
     "metadata": {},
     "outputs": []
    },
    {
     "cell_type": "code",
     "collapsed": false,
     "input": [
      "get_snp_frequency(3, 5)"
     ],
     "language": "python",
     "metadata": {},
     "outputs": []
    },
    {
     "cell_type": "code",
     "collapsed": true,
     "input": [
      "def get_snp_trajectory(site):\n",
      "    trajectory = [get_snp_frequency(site, gen) for gen in range(generations)]\n",
      "    return trajectory"
     ],
     "language": "python",
     "metadata": {},
     "outputs": []
    },
    {
     "cell_type": "code",
     "collapsed": false,
     "input": [
      "get_snp_trajectory(3)"
     ],
     "language": "python",
     "metadata": {},
     "outputs": []
    },
    {
     "cell_type": "markdown",
     "metadata": {},
     "source": [
      "Find all variable sites."
     ]
    },
    {
     "cell_type": "code",
     "collapsed": true,
     "input": [
      "def get_all_snps():\n",
      "    snps = set()   \n",
      "    for generation in history:\n",
      "        for haplotype in generation:\n",
      "            for site in range(seq_length):\n",
      "                if haplotype[site] != \"A\":\n",
      "                    snps.add(site)\n",
      "    return snps"
     ],
     "language": "python",
     "metadata": {},
     "outputs": []
    },
    {
     "cell_type": "code",
     "collapsed": true,
     "input": [
      "def snp_trajectory_plot(xlabel=\"generation\"):\n",
      "    mpl.rcParams['font.size']=18\n",
      "    snps = get_all_snps()\n",
      "    trajectories = [get_snp_trajectory(snp) for snp in snps]\n",
      "    data = []\n",
      "    for trajectory, color in itertools.izip(trajectories, itertools.cycle(colors)):\n",
      "        data.append(range(generations))\n",
      "        data.append(trajectory)    \n",
      "        data.append(color)\n",
      "    plt.plot(*data)   \n",
      "    plt.ylim(0, 1)\n",
      "    plt.ylabel(\"frequency\")\n",
      "    plt.xlabel(xlabel)"
     ],
     "language": "python",
     "metadata": {},
     "outputs": []
    },
    {
     "cell_type": "code",
     "collapsed": false,
     "input": [
      "snp_trajectory_plot()"
     ],
     "language": "python",
     "metadata": {},
     "outputs": []
    },
    {
     "cell_type": "heading",
     "level": 2,
     "metadata": {},
     "source": [
      "Scale up"
     ]
    },
    {
     "cell_type": "markdown",
     "metadata": {},
     "source": [
      "Here, we scale up to more interesting parameter values."
     ]
    },
    {
     "cell_type": "code",
     "collapsed": true,
     "input": [
      "pop_size = 50\n",
      "seq_length = 100\n",
      "generations = 500\n",
      "mutation_rate = 0.0001 # per gen per individual per site"
     ],
     "language": "python",
     "metadata": {},
     "outputs": [],
     "prompt_number": 1
    },
    {
     "cell_type": "markdown",
     "metadata": {},
     "source": [
      "In this case there are $\\mu$ = 0.01 mutations entering the population every generation."
     ]
    },
    {
     "cell_type": "code",
     "collapsed": false,
     "input": [
      "seq_length * mutation_rate"
     ],
     "language": "python",
     "metadata": {},
     "outputs": []
    },
    {
     "cell_type": "markdown",
     "metadata": {},
     "source": [
      "And the population genetic parameter $\\theta$, which equals $2N\\mu$, is 1."
     ]
    },
    {
     "cell_type": "code",
     "collapsed": false,
     "input": [
      "2 * pop_size * seq_length * mutation_rate"
     ],
     "language": "python",
     "metadata": {},
     "outputs": []
    },
    {
     "cell_type": "code",
     "collapsed": true,
     "input": [
      "base_haplotype = ''.join([\"A\" for i in range(seq_length)])\n",
      "pop.clear()\n",
      "del history[:]\n",
      "pop[base_haplotype] = pop_size"
     ],
     "language": "python",
     "metadata": {},
     "outputs": []
    },
    {
     "cell_type": "code",
     "collapsed": false,
     "input": [
      "simulate()"
     ],
     "language": "python",
     "metadata": {},
     "outputs": []
    },
    {
     "cell_type": "code",
     "collapsed": false,
     "input": [
      "plt.figure(num=None, figsize=(14, 14), dpi=80, facecolor='w', edgecolor='k')\n",
      "plt.subplot2grid((3,2), (0,0), colspan=2)\n",
      "stacked_trajectory_plot(xlabel=\"\")\n",
      "plt.subplot2grid((3,2), (1,0), colspan=2)\n",
      "snp_trajectory_plot(xlabel=\"\")\n",
      "plt.subplot2grid((3,2), (2,0))\n",
      "diversity_plot()\n",
      "plt.subplot2grid((3,2), (2,1))\n",
      "divergence_plot()"
     ],
     "language": "python",
     "metadata": {},
     "outputs": []
    },
    {
     "cell_type": "code",
     "collapsed": false,
     "input": [],
     "language": "python",
     "metadata": {},
     "outputs": []
    }
   ],
   "metadata": {}
  }
 ]
}